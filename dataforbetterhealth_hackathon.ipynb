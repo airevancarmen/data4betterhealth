{
 "cells": [
  {
   "cell_type": "markdown",
   "metadata": {},
   "source": [
    "# DATA FOR BETTER HEALTH | First Hackathon "
   ]
  },
  {
   "cell_type": "markdown",
   "metadata": {},
   "source": [
    "Initiative:\n",
    "https://dataforbetterhealth.be/fr/\n",
    "\n",
    "Resources:\n",
    "https://github.com/Sciensano-Healthdata/dataforbetterhealth\n",
    "\n",
    "\n",
    "\"Data for Better Health\" aims at finding incentive mechanisms for a fair data policy in the Belgium public health sector. An integrated data access policy will lead to: better support for scientific research, a more effective development of medicines and medical devices, improved patient care, improved support for clinical trials, support for personalized care, support for prevention, patient-centered care, identification of current impediments and lower medical expenses. This hackathon took place during the 25th and 26th of February, 2019. It is the first of series of hackathons, it's main objective was to familiarize the participants with the resources. \n",
    "\n",
    "This exercise was done in collaboration with Vuong Bui."
   ]
  },
  {
   "cell_type": "markdown",
   "metadata": {},
   "source": [
    "## Explorying the dataframes"
   ]
  },
  {
   "cell_type": "code",
   "execution_count": null,
   "metadata": {},
   "outputs": [],
   "source": [
    "import pandas as pd \n",
    "\n",
    "import numpy as np\n",
    "\n",
    "import matplotlib.pyplot as plt\n",
    "import seaborn as sns "
   ]
  },
  {
   "cell_type": "markdown",
   "metadata": {},
   "source": [
    "Secret dataset: Relevant (anonymized) data with the amount of reimbursement provided by insurance companies for drugs purchase.  "
   ]
  },
  {
   "cell_type": "code",
   "execution_count": 3,
   "metadata": {},
   "outputs": [
    {
     "name": "stderr",
     "output_type": "stream",
     "text": [
      "C:\\anaconda\\lib\\site-packages\\IPython\\core\\interactiveshell.py:2785: DtypeWarning: Columns (3,5) have mixed types. Specify dtype option on import or set low_memory=False.\n",
      "  interactivity=interactivity, compiler=compiler, result=result)\n"
     ]
    }
   ],
   "source": [
    "secret = pd.read_csv('DB_V2.TXT', sep='\\t', encoding='ISO-8859-1')\n"
   ]
  },
  {
   "cell_type": "code",
   "execution_count": 4,
   "metadata": {},
   "outputs": [
    {
     "data": {
      "text/html": [
       "<div>\n",
       "<style scoped>\n",
       "    .dataframe tbody tr th:only-of-type {\n",
       "        vertical-align: middle;\n",
       "    }\n",
       "\n",
       "    .dataframe tbody tr th {\n",
       "        vertical-align: top;\n",
       "    }\n",
       "\n",
       "    .dataframe thead th {\n",
       "        text-align: right;\n",
       "    }\n",
       "</style>\n",
       "<table border=\"1\" class=\"dataframe\">\n",
       "  <thead>\n",
       "    <tr style=\"text-align: right;\">\n",
       "      <th></th>\n",
       "      <th>account_yy_ss</th>\n",
       "      <th>Province</th>\n",
       "      <th>Type</th>\n",
       "      <th>hosp_serv_id</th>\n",
       "      <th>reimbt_cat_id</th>\n",
       "      <th>drug_code</th>\n",
       "      <th>realization_date</th>\n",
       "      <th>quantity</th>\n",
       "      <th>amount_reimb</th>\n",
       "      <th>amount_not_reimb</th>\n",
       "      <th>Year</th>\n",
       "    </tr>\n",
       "  </thead>\n",
       "  <tbody>\n",
       "    <tr>\n",
       "      <th>0</th>\n",
       "      <td>20026</td>\n",
       "      <td>Anvers</td>\n",
       "      <td>Général</td>\n",
       "      <td>990</td>\n",
       "      <td>698014</td>\n",
       "      <td>0</td>\n",
       "      <td>20014</td>\n",
       "      <td>1</td>\n",
       "      <td>218.10</td>\n",
       "      <td>0.0</td>\n",
       "      <td>2002</td>\n",
       "    </tr>\n",
       "    <tr>\n",
       "      <th>1</th>\n",
       "      <td>20026</td>\n",
       "      <td>Anvers</td>\n",
       "      <td>Général</td>\n",
       "      <td>990</td>\n",
       "      <td>698051</td>\n",
       "      <td>0</td>\n",
       "      <td>20014</td>\n",
       "      <td>3</td>\n",
       "      <td>5816.01</td>\n",
       "      <td>0.0</td>\n",
       "      <td>2002</td>\n",
       "    </tr>\n",
       "    <tr>\n",
       "      <th>2</th>\n",
       "      <td>20027</td>\n",
       "      <td>Anvers</td>\n",
       "      <td>Général</td>\n",
       "      <td>990</td>\n",
       "      <td>698051</td>\n",
       "      <td>0</td>\n",
       "      <td>20014</td>\n",
       "      <td>1</td>\n",
       "      <td>51.83</td>\n",
       "      <td>0.0</td>\n",
       "      <td>2002</td>\n",
       "    </tr>\n",
       "    <tr>\n",
       "      <th>3</th>\n",
       "      <td>20026</td>\n",
       "      <td>Anvers</td>\n",
       "      <td>Général</td>\n",
       "      <td>990</td>\n",
       "      <td>698051</td>\n",
       "      <td>0</td>\n",
       "      <td>20021</td>\n",
       "      <td>2</td>\n",
       "      <td>535.21</td>\n",
       "      <td>0.0</td>\n",
       "      <td>2002</td>\n",
       "    </tr>\n",
       "    <tr>\n",
       "      <th>4</th>\n",
       "      <td>20027</td>\n",
       "      <td>Anvers</td>\n",
       "      <td>Général</td>\n",
       "      <td>990</td>\n",
       "      <td>698051</td>\n",
       "      <td>0</td>\n",
       "      <td>20021</td>\n",
       "      <td>1</td>\n",
       "      <td>267.61</td>\n",
       "      <td>0.0</td>\n",
       "      <td>2002</td>\n",
       "    </tr>\n",
       "  </tbody>\n",
       "</table>\n",
       "</div>"
      ],
      "text/plain": [
       "   account_yy_ss Province     Type hosp_serv_id  reimbt_cat_id drug_code  \\\n",
       "0          20026   Anvers  Général          990         698014         0   \n",
       "1          20026   Anvers  Général          990         698051         0   \n",
       "2          20027   Anvers  Général          990         698051         0   \n",
       "3          20026   Anvers  Général          990         698051         0   \n",
       "4          20027   Anvers  Général          990         698051         0   \n",
       "\n",
       "   realization_date  quantity  amount_reimb  amount_not_reimb  Year  \n",
       "0             20014         1        218.10               0.0  2002  \n",
       "1             20014         3       5816.01               0.0  2002  \n",
       "2             20014         1         51.83               0.0  2002  \n",
       "3             20021         2        535.21               0.0  2002  \n",
       "4             20021         1        267.61               0.0  2002  "
      ]
     },
     "execution_count": 4,
     "metadata": {},
     "output_type": "execute_result"
    }
   ],
   "source": [
    "secret.head()"
   ]
  },
  {
   "cell_type": "code",
   "execution_count": 5,
   "metadata": {},
   "outputs": [
    {
     "data": {
      "text/plain": [
       "array([2002, 2003, 2004, 2005, 2006, 2007, 2008, 2009, 2010, 2011, 2012,\n",
       "       2013, 2014, 2015, 2016, 2017], dtype=int64)"
      ]
     },
     "execution_count": 5,
     "metadata": {},
     "output_type": "execute_result"
    }
   ],
   "source": [
    " secret.Year.unique()"
   ]
  },
  {
   "cell_type": "code",
   "execution_count": 6,
   "metadata": {},
   "outputs": [
    {
     "data": {
      "text/plain": [
       "array(['Général', 'Psychiatrique'], dtype=object)"
      ]
     },
     "execution_count": 6,
     "metadata": {},
     "output_type": "execute_result"
    }
   ],
   "source": [
    "secret.Type.unique()"
   ]
  },
  {
   "cell_type": "markdown",
   "metadata": {},
   "source": [
    "### We cut the data in chuncks\n",
    "\n",
    "To avoid memory problems and being able to produce ad hoc reports."
   ]
  },
  {
   "cell_type": "code",
   "execution_count": 7,
   "metadata": {},
   "outputs": [],
   "source": [
    "brux = secret[secret['Province']== 'Bruxelles-Capitale'] #3,373,238 points vs 26,009,309 from secret "
   ]
  },
  {
   "cell_type": "code",
   "execution_count": 15,
   "metadata": {},
   "outputs": [],
   "source": [
    "psyco = secret[secret['Type']== 'Psychiatrique'] #2,352,520 points\n",
    "\n",
    "#psyco.info()\n",
    "\n",
    "#gen = brux[brux['Type']== 'General'] \n",
    "\n",
    "#gen.info()"
   ]
  },
  {
   "cell_type": "code",
   "execution_count": 9,
   "metadata": {
    "collapsed": true
   },
   "outputs": [
    {
     "data": {
      "text/plain": [
       "706705     6909\n",
       "726968     6868\n",
       "772897     6517\n",
       "768655     6467\n",
       "742452     6394\n",
       "734103     6347\n",
       "744649     5901\n",
       "734095     5856\n",
       "771121     5801\n",
       "763235     5779\n",
       "705368     5637\n",
       "1278266    5465\n",
       "747584     5412\n",
       "705699     5389\n",
       "1499995    5295\n",
       "771113     5127\n",
       "106914     5080\n",
       "770792     4939\n",
       "744631     4938\n",
       "742445     4934\n",
       "774786     4922\n",
       "710087     4905\n",
       "780288     4812\n",
       "768044     4802\n",
       "740076     4784\n",
       "744656     4673\n",
       "749978     4601\n",
       "749952     4559\n",
       "746123     4523\n",
       "700260     4472\n",
       "           ... \n",
       "1681568       1\n",
       "108597        1\n",
       "2995744       1\n",
       "894998        1\n",
       "108415        1\n",
       "2991826       1\n",
       "108084        1\n",
       "2729325       1\n",
       "7709611       1\n",
       "480491        1\n",
       "371435        1\n",
       "1682186       1\n",
       "109363        1\n",
       "896241        1\n",
       "1422831       1\n",
       "7714280       1\n",
       "2995603       1\n",
       "898312        1\n",
       "111773        1\n",
       "7713944       1\n",
       "1684315       1\n",
       "2994630       1\n",
       "7713126       1\n",
       "1683705       1\n",
       "7712599       1\n",
       "372532        1\n",
       "7712482       1\n",
       "110171        1\n",
       "109819        1\n",
       "175927        1\n",
       "Name: drug_code, Length: 10611, dtype: int64"
      ]
     },
     "execution_count": 9,
     "metadata": {},
     "output_type": "execute_result"
    }
   ],
   "source": [
    "psyco['drug_code'].value_counts()"
   ]
  },
  {
   "cell_type": "code",
   "execution_count": 18,
   "metadata": {},
   "outputs": [
    {
     "name": "stderr",
     "output_type": "stream",
     "text": [
      "C:\\anaconda\\lib\\site-packages\\ipykernel_launcher.py:1: SettingWithCopyWarning: \n",
      "A value is trying to be set on a copy of a slice from a DataFrame.\n",
      "Try using .loc[row_indexer,col_indexer] = value instead\n",
      "\n",
      "See the caveats in the documentation: http://pandas.pydata.org/pandas-docs/stable/indexing.html#indexing-view-versus-copy\n",
      "  \"\"\"Entry point for launching an IPython kernel.\n"
     ]
    }
   ],
   "source": [
    "psyco['drug_code'] = psyco['drug_code'].apply(str)"
   ]
  },
  {
   "cell_type": "code",
   "execution_count": 11,
   "metadata": {},
   "outputs": [],
   "source": [
    "#link = \"PHARMA_REF.xlsx\"\n",
    "\n",
    "pharma = pd.read_excel('PHARMA_REF.xlsx', index_col=0)"
   ]
  },
  {
   "cell_type": "code",
   "execution_count": 22,
   "metadata": {},
   "outputs": [
    {
     "data": {
      "text/html": [
       "<div>\n",
       "<style scoped>\n",
       "    .dataframe tbody tr th:only-of-type {\n",
       "        vertical-align: middle;\n",
       "    }\n",
       "\n",
       "    .dataframe tbody tr th {\n",
       "        vertical-align: top;\n",
       "    }\n",
       "\n",
       "    .dataframe thead th {\n",
       "        text-align: right;\n",
       "    }\n",
       "</style>\n",
       "<table border=\"1\" class=\"dataframe\">\n",
       "  <thead>\n",
       "    <tr style=\"text-align: right;\">\n",
       "      <th></th>\n",
       "      <th>drug_code</th>\n",
       "      <th>produit_pharma</th>\n",
       "      <th>type_drug_code</th>\n",
       "      <th>famille_produit_pharma</th>\n",
       "      <th>drug_name_aggregated</th>\n",
       "      <th>nom_produit_pharma</th>\n",
       "      <th>conditionnement</th>\n",
       "      <th>mode_administration</th>\n",
       "      <th>nom_firme_pharma</th>\n",
       "      <th>date_debut_rembourse</th>\n",
       "      <th>...</th>\n",
       "      <th>code_atc</th>\n",
       "      <th>code_atc_5</th>\n",
       "      <th>code_atc_4</th>\n",
       "      <th>code_atc_3</th>\n",
       "      <th>code_atc_1</th>\n",
       "      <th>DDD</th>\n",
       "      <th>nombre_prises</th>\n",
       "      <th>orphan_flag</th>\n",
       "      <th>chapter_IV_bis_flag</th>\n",
       "      <th>link_same_tablet</th>\n",
       "    </tr>\n",
       "    <tr>\n",
       "      <th>trim_pharma</th>\n",
       "      <th></th>\n",
       "      <th></th>\n",
       "      <th></th>\n",
       "      <th></th>\n",
       "      <th></th>\n",
       "      <th></th>\n",
       "      <th></th>\n",
       "      <th></th>\n",
       "      <th></th>\n",
       "      <th></th>\n",
       "      <th></th>\n",
       "      <th></th>\n",
       "      <th></th>\n",
       "      <th></th>\n",
       "      <th></th>\n",
       "      <th></th>\n",
       "      <th></th>\n",
       "      <th></th>\n",
       "      <th></th>\n",
       "      <th></th>\n",
       "      <th></th>\n",
       "    </tr>\n",
       "  </thead>\n",
       "  <tbody>\n",
       "    <tr>\n",
       "      <th>20183</th>\n",
       "      <td>3041209</td>\n",
       "      <td>3041209</td>\n",
       "      <td>Package</td>\n",
       "      <td>Spécialité pharmaceutique</td>\n",
       "      <td>cetirizine - generieken</td>\n",
       "      <td>CETIRIZINE MYLAN 10 mg</td>\n",
       "      <td>20  comprimés pelliculés x 10 mg Cétirizine, c...</td>\n",
       "      <td>COMPRIMES</td>\n",
       "      <td>MYLAN</td>\n",
       "      <td>2013-08-01</td>\n",
       "      <td>...</td>\n",
       "      <td>R06AE07</td>\n",
       "      <td>R06AE</td>\n",
       "      <td>R06A</td>\n",
       "      <td>R06</td>\n",
       "      <td>R</td>\n",
       "      <td>20.0</td>\n",
       "      <td>20</td>\n",
       "      <td>0</td>\n",
       "      <td>0</td>\n",
       "      <td>4714</td>\n",
       "    </tr>\n",
       "    <tr>\n",
       "      <th>20183</th>\n",
       "      <td>1670397</td>\n",
       "      <td>1670397</td>\n",
       "      <td>Package</td>\n",
       "      <td>Spécialité pharmaceutique</td>\n",
       "      <td>cetirizine - generieken</td>\n",
       "      <td>CETIRIZINE MYLAN 10 mg</td>\n",
       "      <td>30  comprimés x 10 mg Cétirizine, chlorhydrate...</td>\n",
       "      <td>COMPRIMES</td>\n",
       "      <td>MYLAN</td>\n",
       "      <td>2002-10-01</td>\n",
       "      <td>...</td>\n",
       "      <td>R06AE07</td>\n",
       "      <td>R06AE</td>\n",
       "      <td>R06A</td>\n",
       "      <td>R06</td>\n",
       "      <td>R</td>\n",
       "      <td>30.0</td>\n",
       "      <td>30</td>\n",
       "      <td>0</td>\n",
       "      <td>0</td>\n",
       "      <td>4714</td>\n",
       "    </tr>\n",
       "    <tr>\n",
       "      <th>20183</th>\n",
       "      <td>3041126</td>\n",
       "      <td>3041126</td>\n",
       "      <td>Package</td>\n",
       "      <td>Spécialité pharmaceutique</td>\n",
       "      <td>cetirizine - generieken</td>\n",
       "      <td>CETIRIZINE MYLAN 10 mg</td>\n",
       "      <td>50  comprimés pelliculés x 10 mg Cétirizine, d...</td>\n",
       "      <td>COMPRIMES</td>\n",
       "      <td>MYLAN</td>\n",
       "      <td>2013-11-01</td>\n",
       "      <td>...</td>\n",
       "      <td>R06AE07</td>\n",
       "      <td>R06AE</td>\n",
       "      <td>R06A</td>\n",
       "      <td>R06</td>\n",
       "      <td>R</td>\n",
       "      <td>50.0</td>\n",
       "      <td>50</td>\n",
       "      <td>0</td>\n",
       "      <td>0</td>\n",
       "      <td>4714</td>\n",
       "    </tr>\n",
       "    <tr>\n",
       "      <th>20183</th>\n",
       "      <td>3041134</td>\n",
       "      <td>3041134</td>\n",
       "      <td>Package</td>\n",
       "      <td>Spécialité pharmaceutique</td>\n",
       "      <td>cetirizine - generieken</td>\n",
       "      <td>CETIRIZINE MYLAN 10 mg</td>\n",
       "      <td>100  comprimés pelliculés x 10 mg Cétirizine, ...</td>\n",
       "      <td>COMPRIMES</td>\n",
       "      <td>MYLAN</td>\n",
       "      <td>2013-11-01</td>\n",
       "      <td>...</td>\n",
       "      <td>R06AE07</td>\n",
       "      <td>R06AE</td>\n",
       "      <td>R06A</td>\n",
       "      <td>R06</td>\n",
       "      <td>R</td>\n",
       "      <td>100.0</td>\n",
       "      <td>100</td>\n",
       "      <td>0</td>\n",
       "      <td>0</td>\n",
       "      <td>4714</td>\n",
       "    </tr>\n",
       "    <tr>\n",
       "      <th>20183</th>\n",
       "      <td>3028040</td>\n",
       "      <td>3028040</td>\n",
       "      <td>Package</td>\n",
       "      <td>Spécialité pharmaceutique</td>\n",
       "      <td>cetirizine - generieken</td>\n",
       "      <td>CETIRIZINE TEVA 10 mg</td>\n",
       "      <td>20  comprimés pelliculés x 10 mg Cétirizine, c...</td>\n",
       "      <td>COMPRIMES</td>\n",
       "      <td>TEVA PHARMA BELGIUM</td>\n",
       "      <td>2013-05-01</td>\n",
       "      <td>...</td>\n",
       "      <td>R06AE07</td>\n",
       "      <td>R06AE</td>\n",
       "      <td>R06A</td>\n",
       "      <td>R06</td>\n",
       "      <td>R</td>\n",
       "      <td>20.0</td>\n",
       "      <td>20</td>\n",
       "      <td>0</td>\n",
       "      <td>0</td>\n",
       "      <td>4717</td>\n",
       "    </tr>\n",
       "  </tbody>\n",
       "</table>\n",
       "<p>5 rows × 21 columns</p>\n",
       "</div>"
      ],
      "text/plain": [
       "             drug_code  produit_pharma type_drug_code  \\\n",
       "trim_pharma                                             \n",
       "20183          3041209         3041209        Package   \n",
       "20183          1670397         1670397        Package   \n",
       "20183          3041126         3041126        Package   \n",
       "20183          3041134         3041134        Package   \n",
       "20183          3028040         3028040        Package   \n",
       "\n",
       "                famille_produit_pharma     drug_name_aggregated  \\\n",
       "trim_pharma                                                       \n",
       "20183        Spécialité pharmaceutique  cetirizine - generieken   \n",
       "20183        Spécialité pharmaceutique  cetirizine - generieken   \n",
       "20183        Spécialité pharmaceutique  cetirizine - generieken   \n",
       "20183        Spécialité pharmaceutique  cetirizine - generieken   \n",
       "20183        Spécialité pharmaceutique  cetirizine - generieken   \n",
       "\n",
       "                 nom_produit_pharma  \\\n",
       "trim_pharma                           \n",
       "20183        CETIRIZINE MYLAN 10 mg   \n",
       "20183        CETIRIZINE MYLAN 10 mg   \n",
       "20183        CETIRIZINE MYLAN 10 mg   \n",
       "20183        CETIRIZINE MYLAN 10 mg   \n",
       "20183         CETIRIZINE TEVA 10 mg   \n",
       "\n",
       "                                               conditionnement  \\\n",
       "trim_pharma                                                      \n",
       "20183        20  comprimés pelliculés x 10 mg Cétirizine, c...   \n",
       "20183        30  comprimés x 10 mg Cétirizine, chlorhydrate...   \n",
       "20183        50  comprimés pelliculés x 10 mg Cétirizine, d...   \n",
       "20183        100  comprimés pelliculés x 10 mg Cétirizine, ...   \n",
       "20183        20  comprimés pelliculés x 10 mg Cétirizine, c...   \n",
       "\n",
       "            mode_administration     nom_firme_pharma date_debut_rembourse  \\\n",
       "trim_pharma                                                                 \n",
       "20183                 COMPRIMES                MYLAN           2013-08-01   \n",
       "20183                 COMPRIMES                MYLAN           2002-10-01   \n",
       "20183                 COMPRIMES                MYLAN           2013-11-01   \n",
       "20183                 COMPRIMES                MYLAN           2013-11-01   \n",
       "20183                 COMPRIMES  TEVA PHARMA BELGIUM           2013-05-01   \n",
       "\n",
       "                   ...        code_atc code_atc_5 code_atc_4 code_atc_3  \\\n",
       "trim_pharma        ...                                                    \n",
       "20183              ...         R06AE07      R06AE       R06A        R06   \n",
       "20183              ...         R06AE07      R06AE       R06A        R06   \n",
       "20183              ...         R06AE07      R06AE       R06A        R06   \n",
       "20183              ...         R06AE07      R06AE       R06A        R06   \n",
       "20183              ...         R06AE07      R06AE       R06A        R06   \n",
       "\n",
       "            code_atc_1    DDD  nombre_prises  orphan_flag  \\\n",
       "trim_pharma                                                 \n",
       "20183                R   20.0             20            0   \n",
       "20183                R   30.0             30            0   \n",
       "20183                R   50.0             50            0   \n",
       "20183                R  100.0            100            0   \n",
       "20183                R   20.0             20            0   \n",
       "\n",
       "             chapter_IV_bis_flag  link_same_tablet  \n",
       "trim_pharma                                         \n",
       "20183                          0              4714  \n",
       "20183                          0              4714  \n",
       "20183                          0              4714  \n",
       "20183                          0              4714  \n",
       "20183                          0              4717  \n",
       "\n",
       "[5 rows x 21 columns]"
      ]
     },
     "execution_count": 22,
     "metadata": {},
     "output_type": "execute_result"
    }
   ],
   "source": [
    "pharma.head()"
   ]
  },
  {
   "cell_type": "code",
   "execution_count": 23,
   "metadata": {
    "collapsed": true
   },
   "outputs": [
    {
     "name": "stdout",
     "output_type": "stream",
     "text": [
      "<class 'pandas.core.frame.DataFrame'>\n",
      "Int64Index: 36898 entries, 20183 to 20183\n",
      "Data columns (total 21 columns):\n",
      "drug_code                 36898 non-null int64\n",
      "produit_pharma            36898 non-null int64\n",
      "type_drug_code            28668 non-null object\n",
      "famille_produit_pharma    28668 non-null object\n",
      "drug_name_aggregated      28668 non-null object\n",
      "nom_produit_pharma        28667 non-null object\n",
      "conditionnement           27278 non-null object\n",
      "mode_administration       27291 non-null object\n",
      "nom_firme_pharma          22604 non-null object\n",
      "date_debut_rembourse      36898 non-null datetime64[ns]\n",
      "statut_produit_pharma     26095 non-null object\n",
      "code_atc                  36898 non-null object\n",
      "code_atc_5                36898 non-null object\n",
      "code_atc_4                36898 non-null object\n",
      "code_atc_3                36898 non-null object\n",
      "code_atc_1                36898 non-null object\n",
      "DDD                       36898 non-null float64\n",
      "nombre_prises             36898 non-null int64\n",
      "orphan_flag               36898 non-null int64\n",
      "chapter_IV_bis_flag       36898 non-null int64\n",
      "link_same_tablet          36898 non-null int64\n",
      "dtypes: datetime64[ns](1), float64(1), int64(6), object(13)\n",
      "memory usage: 6.2+ MB\n"
     ]
    }
   ],
   "source": [
    "pharma.info()"
   ]
  },
  {
   "cell_type": "code",
   "execution_count": 24,
   "metadata": {},
   "outputs": [],
   "source": [
    "farma = pharma.reset_index()"
   ]
  },
  {
   "cell_type": "code",
   "execution_count": 25,
   "metadata": {},
   "outputs": [],
   "source": [
    "farma['drug_code'] = farma['drug_code'].apply(str)"
   ]
  },
  {
   "cell_type": "code",
   "execution_count": 28,
   "metadata": {},
   "outputs": [],
   "source": [
    "#We merge dataframes on the 'drug_code', which were previously converted to strings\n",
    "\n",
    "mental = psyco.merge(farma, on='drug_code', how='left')"
   ]
  },
  {
   "cell_type": "code",
   "execution_count": 27,
   "metadata": {
    "collapsed": true
   },
   "outputs": [
    {
     "name": "stdout",
     "output_type": "stream",
     "text": [
      "<class 'pandas.core.frame.DataFrame'>\n",
      "Int64Index: 2352520 entries, 0 to 2352519\n",
      "Data columns (total 32 columns):\n",
      "account_yy_ss             int64\n",
      "Province                  object\n",
      "Type                      object\n",
      "hosp_serv_id              object\n",
      "reimbt_cat_id             int64\n",
      "drug_code                 object\n",
      "realization_date          int64\n",
      "quantity                  int64\n",
      "amount_reimb              float64\n",
      "amount_not_reimb          float64\n",
      "Year                      int64\n",
      "trim_pharma               int64\n",
      "produit_pharma            int64\n",
      "type_drug_code            object\n",
      "famille_produit_pharma    object\n",
      "drug_name_aggregated      object\n",
      "nom_produit_pharma        object\n",
      "conditionnement           object\n",
      "mode_administration       object\n",
      "nom_firme_pharma          object\n",
      "date_debut_rembourse      datetime64[ns]\n",
      "statut_produit_pharma     object\n",
      "code_atc                  object\n",
      "code_atc_5                object\n",
      "code_atc_4                object\n",
      "code_atc_3                object\n",
      "code_atc_1                object\n",
      "DDD                       float64\n",
      "nombre_prises             int64\n",
      "orphan_flag               int64\n",
      "chapter_IV_bis_flag       int64\n",
      "link_same_tablet          int64\n",
      "dtypes: datetime64[ns](1), float64(3), int64(11), object(17)\n",
      "memory usage: 592.3+ MB\n"
     ]
    }
   ],
   "source": [
    "mental.info() #size 2.157.736 "
   ]
  },
  {
   "cell_type": "code",
   "execution_count": null,
   "metadata": {},
   "outputs": [],
   "source": [
    "mental.columns"
   ]
  },
  {
   "cell_type": "code",
   "execution_count": null,
   "metadata": {},
   "outputs": [],
   "source": [
    "mental.drug_name_aggregated.unique()"
   ]
  },
  {
   "cell_type": "code",
   "execution_count": 30,
   "metadata": {
    "collapsed": true
   },
   "outputs": [
    {
     "data": {
      "text/plain": [
       "account_yy_ss                  0\n",
       "Province                       0\n",
       "Type                           0\n",
       "hosp_serv_id                   0\n",
       "reimbt_cat_id                  0\n",
       "drug_code                      0\n",
       "realization_date               0\n",
       "quantity                       0\n",
       "amount_reimb                   0\n",
       "amount_not_reimb               0\n",
       "Year                           0\n",
       "trim_pharma                    0\n",
       "produit_pharma                 0\n",
       "type_drug_code             10303\n",
       "famille_produit_pharma     10303\n",
       "drug_name_aggregated       10303\n",
       "nom_produit_pharma         10303\n",
       "conditionnement            19298\n",
       "mode_administration        23059\n",
       "nom_firme_pharma          173381\n",
       "date_debut_rembourse           0\n",
       "statut_produit_pharma      38408\n",
       "code_atc                       0\n",
       "code_atc_5                     0\n",
       "code_atc_4                     0\n",
       "code_atc_3                     0\n",
       "code_atc_1                     0\n",
       "DDD                            0\n",
       "nombre_prises                  0\n",
       "orphan_flag                    0\n",
       "chapter_IV_bis_flag            0\n",
       "link_same_tablet               0\n",
       "dtype: int64"
      ]
     },
     "execution_count": 30,
     "metadata": {},
     "output_type": "execute_result"
    }
   ],
   "source": [
    "# Detecting null values\n",
    "\n",
    "#mental.isnull().values.any()\n",
    "mental.isnull().sum()"
   ]
  },
  {
   "cell_type": "code",
   "execution_count": null,
   "metadata": {},
   "outputs": [],
   "source": [
    "mental.head()"
   ]
  },
  {
   "cell_type": "markdown",
   "metadata": {},
   "source": [
    "## Using the right 'time' variable\n",
    "\n",
    "The \"Year\" column represents when the amount of reimbursement was declared.\n",
    "\n",
    "The variable 'realization_date' is when 'amount_reimb' took place,, indicating the year and the quartile.\n",
    "\n",
    "As it is shown in the plot below, 'Year' values corresponds to three different years from realization date. Therefore, proper time series must use the variable 'realization_date'."
   ]
  },
  {
   "cell_type": "code",
   "execution_count": 31,
   "metadata": {},
   "outputs": [],
   "source": [
    "mental['date'] = mental['realization_date'].apply(str)"
   ]
  },
  {
   "cell_type": "code",
   "execution_count": 33,
   "metadata": {},
   "outputs": [],
   "source": [
    "mental = mental[\n",
    "     mental['realization_date'] // 10 > 2002\n",
    "]"
   ]
  },
  {
   "cell_type": "code",
   "execution_count": 34,
   "metadata": {
    "collapsed": true
   },
   "outputs": [
    {
     "name": "stderr",
     "output_type": "stream",
     "text": [
      "C:\\anaconda\\lib\\site-packages\\ipykernel_launcher.py:2: SettingWithCopyWarning: \n",
      "A value is trying to be set on a copy of a slice from a DataFrame.\n",
      "Try using .loc[row_indexer,col_indexer] = value instead\n",
      "\n",
      "See the caveats in the documentation: http://pandas.pydata.org/pandas-docs/stable/indexing.html#indexing-view-versus-copy\n",
      "  \n"
     ]
    }
   ],
   "source": [
    "#In this way we remove the quartile info from the year in the 'realization_date' variable\n",
    "mental['dateyeah'] = mental['date'].str.slice(stop=4)"
   ]
  },
  {
   "cell_type": "code",
   "execution_count": 36,
   "metadata": {},
   "outputs": [],
   "source": [
    "mental['datey'] = pd.to_numeric(mental['dateyeah'])"
   ]
  },
  {
   "cell_type": "code",
   "execution_count": 37,
   "metadata": {},
   "outputs": [
    {
     "data": {
      "image/png": "[encoded data removed]",
      "text/plain": [
       "<Figure size 432x288 with 1 Axes>"
      ]
     },
     "metadata": {},
     "output_type": "display_data"
    }
   ],
   "source": [
    "#Here we prove that the reports of reimboursement can be two years delayed \n",
    "\n",
    "mental.plot(x='datey', y='Year', kind = 'scatter')\n",
    "\n",
    "plt.show()"
   ]
  },
  {
   "cell_type": "code",
   "execution_count": 38,
   "metadata": {},
   "outputs": [],
   "source": [
    "mentala = mental.groupby('datey').mean().reset_index()"
   ]
  },
  {
   "cell_type": "code",
   "execution_count": 39,
   "metadata": {
    "collapsed": true
   },
   "outputs": [
    {
     "data": {
      "text/html": [
       "<div>\n",
       "<style scoped>\n",
       "    .dataframe tbody tr th:only-of-type {\n",
       "        vertical-align: middle;\n",
       "    }\n",
       "\n",
       "    .dataframe tbody tr th {\n",
       "        vertical-align: top;\n",
       "    }\n",
       "\n",
       "    .dataframe thead th {\n",
       "        text-align: right;\n",
       "    }\n",
       "</style>\n",
       "<table border=\"1\" class=\"dataframe\">\n",
       "  <thead>\n",
       "    <tr style=\"text-align: right;\">\n",
       "      <th></th>\n",
       "      <th>datey</th>\n",
       "      <th>account_yy_ss</th>\n",
       "      <th>reimbt_cat_id</th>\n",
       "      <th>realization_date</th>\n",
       "      <th>quantity</th>\n",
       "      <th>amount_reimb</th>\n",
       "      <th>amount_not_reimb</th>\n",
       "      <th>Year</th>\n",
       "      <th>trim_pharma</th>\n",
       "      <th>produit_pharma</th>\n",
       "      <th>DDD</th>\n",
       "      <th>nombre_prises</th>\n",
       "      <th>orphan_flag</th>\n",
       "      <th>chapter_IV_bis_flag</th>\n",
       "      <th>link_same_tablet</th>\n",
       "    </tr>\n",
       "  </thead>\n",
       "  <tbody>\n",
       "    <tr>\n",
       "      <th>0</th>\n",
       "      <td>2003</td>\n",
       "      <td>20039.688466</td>\n",
       "      <td>751011.966879</td>\n",
       "      <td>20032.454578</td>\n",
       "      <td>348.012734</td>\n",
       "      <td>125.829194</td>\n",
       "      <td>28.454979</td>\n",
       "      <td>2003.318868</td>\n",
       "      <td>20183.0</td>\n",
       "      <td>710049.464289</td>\n",
       "      <td>12.611884</td>\n",
       "      <td>10.601184</td>\n",
       "      <td>0.000000</td>\n",
       "      <td>0.000464</td>\n",
       "      <td>-5139.065314</td>\n",
       "    </tr>\n",
       "    <tr>\n",
       "      <th>1</th>\n",
       "      <td>2004</td>\n",
       "      <td>20049.619524</td>\n",
       "      <td>751009.473178</td>\n",
       "      <td>20042.459840</td>\n",
       "      <td>339.088489</td>\n",
       "      <td>144.217009</td>\n",
       "      <td>25.718768</td>\n",
       "      <td>2004.311381</td>\n",
       "      <td>20183.0</td>\n",
       "      <td>724469.363961</td>\n",
       "      <td>12.211785</td>\n",
       "      <td>10.242483</td>\n",
       "      <td>0.000000</td>\n",
       "      <td>0.000434</td>\n",
       "      <td>-5080.945557</td>\n",
       "    </tr>\n",
       "    <tr>\n",
       "      <th>2</th>\n",
       "      <td>2005</td>\n",
       "      <td>20059.572944</td>\n",
       "      <td>751133.805913</td>\n",
       "      <td>20052.457580</td>\n",
       "      <td>335.629823</td>\n",
       "      <td>162.616447</td>\n",
       "      <td>26.501690</td>\n",
       "      <td>2005.306900</td>\n",
       "      <td>20183.0</td>\n",
       "      <td>735918.032551</td>\n",
       "      <td>12.728864</td>\n",
       "      <td>10.550690</td>\n",
       "      <td>0.000007</td>\n",
       "      <td>0.000477</td>\n",
       "      <td>-4953.008747</td>\n",
       "    </tr>\n",
       "    <tr>\n",
       "      <th>3</th>\n",
       "      <td>2006</td>\n",
       "      <td>20069.511371</td>\n",
       "      <td>751266.592153</td>\n",
       "      <td>20062.434781</td>\n",
       "      <td>329.663308</td>\n",
       "      <td>174.496418</td>\n",
       "      <td>26.922850</td>\n",
       "      <td>2006.301494</td>\n",
       "      <td>20183.0</td>\n",
       "      <td>747344.640608</td>\n",
       "      <td>12.567800</td>\n",
       "      <td>10.467340</td>\n",
       "      <td>0.000027</td>\n",
       "      <td>0.000502</td>\n",
       "      <td>-4954.865668</td>\n",
       "    </tr>\n",
       "    <tr>\n",
       "      <th>4</th>\n",
       "      <td>2007</td>\n",
       "      <td>20079.668623</td>\n",
       "      <td>751415.573201</td>\n",
       "      <td>20072.461628</td>\n",
       "      <td>327.599329</td>\n",
       "      <td>177.462588</td>\n",
       "      <td>26.758492</td>\n",
       "      <td>2007.319139</td>\n",
       "      <td>20183.0</td>\n",
       "      <td>768762.231891</td>\n",
       "      <td>12.411583</td>\n",
       "      <td>10.136222</td>\n",
       "      <td>0.000055</td>\n",
       "      <td>0.000440</td>\n",
       "      <td>-4908.452871</td>\n",
       "    </tr>\n",
       "  </tbody>\n",
       "</table>\n",
       "</div>"
      ],
      "text/plain": [
       "   datey  account_yy_ss  reimbt_cat_id  realization_date    quantity  \\\n",
       "0   2003   20039.688466  751011.966879      20032.454578  348.012734   \n",
       "1   2004   20049.619524  751009.473178      20042.459840  339.088489   \n",
       "2   2005   20059.572944  751133.805913      20052.457580  335.629823   \n",
       "3   2006   20069.511371  751266.592153      20062.434781  329.663308   \n",
       "4   2007   20079.668623  751415.573201      20072.461628  327.599329   \n",
       "\n",
       "   amount_reimb  amount_not_reimb         Year  trim_pharma  produit_pharma  \\\n",
       "0    125.829194         28.454979  2003.318868      20183.0   710049.464289   \n",
       "1    144.217009         25.718768  2004.311381      20183.0   724469.363961   \n",
       "2    162.616447         26.501690  2005.306900      20183.0   735918.032551   \n",
       "3    174.496418         26.922850  2006.301494      20183.0   747344.640608   \n",
       "4    177.462588         26.758492  2007.319139      20183.0   768762.231891   \n",
       "\n",
       "         DDD  nombre_prises  orphan_flag  chapter_IV_bis_flag  \\\n",
       "0  12.611884      10.601184     0.000000             0.000464   \n",
       "1  12.211785      10.242483     0.000000             0.000434   \n",
       "2  12.728864      10.550690     0.000007             0.000477   \n",
       "3  12.567800      10.467340     0.000027             0.000502   \n",
       "4  12.411583      10.136222     0.000055             0.000440   \n",
       "\n",
       "   link_same_tablet  \n",
       "0      -5139.065314  \n",
       "1      -5080.945557  \n",
       "2      -4953.008747  \n",
       "3      -4954.865668  \n",
       "4      -4908.452871  "
      ]
     },
     "execution_count": 39,
     "metadata": {},
     "output_type": "execute_result"
    }
   ],
   "source": [
    "#pharma.type_drug_code.unique()\n",
    "#mentala.drug_name_aggregated.unique()\n",
    "\n",
    "mentala.head()"
   ]
  },
  {
   "cell_type": "code",
   "execution_count": 40,
   "metadata": {},
   "outputs": [
    {
     "data": {
      "text/html": [
       "<div>\n",
       "<style scoped>\n",
       "    .dataframe tbody tr th:only-of-type {\n",
       "        vertical-align: middle;\n",
       "    }\n",
       "\n",
       "    .dataframe tbody tr th {\n",
       "        vertical-align: top;\n",
       "    }\n",
       "\n",
       "    .dataframe thead th {\n",
       "        text-align: right;\n",
       "    }\n",
       "</style>\n",
       "<table border=\"1\" class=\"dataframe\">\n",
       "  <thead>\n",
       "    <tr style=\"text-align: right;\">\n",
       "      <th></th>\n",
       "      <th></th>\n",
       "      <th>account_yy_ss</th>\n",
       "      <th>reimbt_cat_id</th>\n",
       "      <th>realization_date</th>\n",
       "      <th>quantity</th>\n",
       "      <th>amount_reimb</th>\n",
       "      <th>amount_not_reimb</th>\n",
       "      <th>Year</th>\n",
       "      <th>trim_pharma</th>\n",
       "      <th>produit_pharma</th>\n",
       "      <th>DDD</th>\n",
       "      <th>nombre_prises</th>\n",
       "      <th>orphan_flag</th>\n",
       "      <th>chapter_IV_bis_flag</th>\n",
       "      <th>link_same_tablet</th>\n",
       "    </tr>\n",
       "    <tr>\n",
       "      <th>datey</th>\n",
       "      <th>code_atc_1</th>\n",
       "      <th></th>\n",
       "      <th></th>\n",
       "      <th></th>\n",
       "      <th></th>\n",
       "      <th></th>\n",
       "      <th></th>\n",
       "      <th></th>\n",
       "      <th></th>\n",
       "      <th></th>\n",
       "      <th></th>\n",
       "      <th></th>\n",
       "      <th></th>\n",
       "      <th></th>\n",
       "      <th></th>\n",
       "    </tr>\n",
       "  </thead>\n",
       "  <tbody>\n",
       "    <tr>\n",
       "      <th rowspan=\"5\" valign=\"top\">2003</th>\n",
       "      <th>A</th>\n",
       "      <td>410951540</td>\n",
       "      <td>15401251684</td>\n",
       "      <td>410805326</td>\n",
       "      <td>9458979</td>\n",
       "      <td>738085.30</td>\n",
       "      <td>913693.63</td>\n",
       "      <td>41081822</td>\n",
       "      <td>413892781</td>\n",
       "      <td>13807434263</td>\n",
       "      <td>365196.67489</td>\n",
       "      <td>320695</td>\n",
       "      <td>0</td>\n",
       "      <td>2</td>\n",
       "      <td>-157026601</td>\n",
       "    </tr>\n",
       "    <tr>\n",
       "      <th>B</th>\n",
       "      <td>110680105</td>\n",
       "      <td>4147060401</td>\n",
       "      <td>110639339</td>\n",
       "      <td>776768</td>\n",
       "      <td>400354.22</td>\n",
       "      <td>83131.96</td>\n",
       "      <td>11064417</td>\n",
       "      <td>111470709</td>\n",
       "      <td>4110940108</td>\n",
       "      <td>165028.74508</td>\n",
       "      <td>87516</td>\n",
       "      <td>0</td>\n",
       "      <td>0</td>\n",
       "      <td>-49272471</td>\n",
       "    </tr>\n",
       "    <tr>\n",
       "      <th>C</th>\n",
       "      <td>336344100</td>\n",
       "      <td>12613148617</td>\n",
       "      <td>336224663</td>\n",
       "      <td>3238620</td>\n",
       "      <td>692515.49</td>\n",
       "      <td>207801.72</td>\n",
       "      <td>33623496</td>\n",
       "      <td>338751472</td>\n",
       "      <td>11891821211</td>\n",
       "      <td>70761.55525</td>\n",
       "      <td>100361</td>\n",
       "      <td>0</td>\n",
       "      <td>0</td>\n",
       "      <td>-4891619</td>\n",
       "    </tr>\n",
       "    <tr>\n",
       "      <th>D</th>\n",
       "      <td>166227291</td>\n",
       "      <td>6228226888</td>\n",
       "      <td>166169282</td>\n",
       "      <td>1278089</td>\n",
       "      <td>116429.82</td>\n",
       "      <td>107993.46</td>\n",
       "      <td>16617335</td>\n",
       "      <td>167417985</td>\n",
       "      <td>5400564172</td>\n",
       "      <td>145022.51878</td>\n",
       "      <td>3792</td>\n",
       "      <td>0</td>\n",
       "      <td>0</td>\n",
       "      <td>-142839227</td>\n",
       "    </tr>\n",
       "    <tr>\n",
       "      <th>G</th>\n",
       "      <td>118372492</td>\n",
       "      <td>4436332264</td>\n",
       "      <td>118331732</td>\n",
       "      <td>741889</td>\n",
       "      <td>65241.37</td>\n",
       "      <td>172315.26</td>\n",
       "      <td>11833406</td>\n",
       "      <td>119220981</td>\n",
       "      <td>4847277113</td>\n",
       "      <td>191013.29324</td>\n",
       "      <td>106508</td>\n",
       "      <td>0</td>\n",
       "      <td>0</td>\n",
       "      <td>-15185125</td>\n",
       "    </tr>\n",
       "  </tbody>\n",
       "</table>\n",
       "</div>"
      ],
      "text/plain": [
       "                  account_yy_ss  reimbt_cat_id  realization_date  quantity  \\\n",
       "datey code_atc_1                                                             \n",
       "2003  A               410951540    15401251684         410805326   9458979   \n",
       "      B               110680105     4147060401         110639339    776768   \n",
       "      C               336344100    12613148617         336224663   3238620   \n",
       "      D               166227291     6228226888         166169282   1278089   \n",
       "      G               118372492     4436332264         118331732    741889   \n",
       "\n",
       "                  amount_reimb  amount_not_reimb      Year  trim_pharma  \\\n",
       "datey code_atc_1                                                          \n",
       "2003  A              738085.30         913693.63  41081822    413892781   \n",
       "      B              400354.22          83131.96  11064417    111470709   \n",
       "      C              692515.49         207801.72  33623496    338751472   \n",
       "      D              116429.82         107993.46  16617335    167417985   \n",
       "      G               65241.37         172315.26  11833406    119220981   \n",
       "\n",
       "                  produit_pharma           DDD  nombre_prises  orphan_flag  \\\n",
       "datey code_atc_1                                                             \n",
       "2003  A              13807434263  365196.67489         320695            0   \n",
       "      B               4110940108  165028.74508          87516            0   \n",
       "      C              11891821211   70761.55525         100361            0   \n",
       "      D               5400564172  145022.51878           3792            0   \n",
       "      G               4847277113  191013.29324         106508            0   \n",
       "\n",
       "                  chapter_IV_bis_flag  link_same_tablet  \n",
       "datey code_atc_1                                         \n",
       "2003  A                             2        -157026601  \n",
       "      B                             0         -49272471  \n",
       "      C                             0          -4891619  \n",
       "      D                             0        -142839227  \n",
       "      G                             0         -15185125  "
      ]
     },
     "execution_count": 40,
     "metadata": {},
     "output_type": "execute_result"
    }
   ],
   "source": [
    "code = mental.groupby(['datey','code_atc_1']).sum()\n",
    "\n",
    "code.head()"
   ]
  },
  {
   "cell_type": "code",
   "execution_count": 41,
   "metadata": {},
   "outputs": [],
   "source": [
    "coda = code.reset_index()"
   ]
  },
  {
   "cell_type": "code",
   "execution_count": 42,
   "metadata": {},
   "outputs": [
    {
     "data": {
      "text/html": [
       "<div>\n",
       "<style scoped>\n",
       "    .dataframe tbody tr th:only-of-type {\n",
       "        vertical-align: middle;\n",
       "    }\n",
       "\n",
       "    .dataframe tbody tr th {\n",
       "        vertical-align: top;\n",
       "    }\n",
       "\n",
       "    .dataframe thead th {\n",
       "        text-align: right;\n",
       "    }\n",
       "</style>\n",
       "<table border=\"1\" class=\"dataframe\">\n",
       "  <thead>\n",
       "    <tr style=\"text-align: right;\">\n",
       "      <th></th>\n",
       "      <th>datey</th>\n",
       "      <th>code_atc_1</th>\n",
       "      <th>account_yy_ss</th>\n",
       "      <th>reimbt_cat_id</th>\n",
       "      <th>realization_date</th>\n",
       "      <th>quantity</th>\n",
       "      <th>amount_reimb</th>\n",
       "      <th>amount_not_reimb</th>\n",
       "      <th>Year</th>\n",
       "      <th>trim_pharma</th>\n",
       "      <th>produit_pharma</th>\n",
       "      <th>DDD</th>\n",
       "      <th>nombre_prises</th>\n",
       "      <th>orphan_flag</th>\n",
       "      <th>chapter_IV_bis_flag</th>\n",
       "      <th>link_same_tablet</th>\n",
       "    </tr>\n",
       "  </thead>\n",
       "  <tbody>\n",
       "    <tr>\n",
       "      <th>0</th>\n",
       "      <td>2003</td>\n",
       "      <td>A</td>\n",
       "      <td>410951540</td>\n",
       "      <td>15401251684</td>\n",
       "      <td>410805326</td>\n",
       "      <td>9458979</td>\n",
       "      <td>738085.30</td>\n",
       "      <td>913693.63</td>\n",
       "      <td>41081822</td>\n",
       "      <td>413892781</td>\n",
       "      <td>13807434263</td>\n",
       "      <td>365196.67489</td>\n",
       "      <td>320695</td>\n",
       "      <td>0</td>\n",
       "      <td>2</td>\n",
       "      <td>-157026601</td>\n",
       "    </tr>\n",
       "    <tr>\n",
       "      <th>1</th>\n",
       "      <td>2003</td>\n",
       "      <td>B</td>\n",
       "      <td>110680105</td>\n",
       "      <td>4147060401</td>\n",
       "      <td>110639339</td>\n",
       "      <td>776768</td>\n",
       "      <td>400354.22</td>\n",
       "      <td>83131.96</td>\n",
       "      <td>11064417</td>\n",
       "      <td>111470709</td>\n",
       "      <td>4110940108</td>\n",
       "      <td>165028.74508</td>\n",
       "      <td>87516</td>\n",
       "      <td>0</td>\n",
       "      <td>0</td>\n",
       "      <td>-49272471</td>\n",
       "    </tr>\n",
       "    <tr>\n",
       "      <th>2</th>\n",
       "      <td>2003</td>\n",
       "      <td>C</td>\n",
       "      <td>336344100</td>\n",
       "      <td>12613148617</td>\n",
       "      <td>336224663</td>\n",
       "      <td>3238620</td>\n",
       "      <td>692515.49</td>\n",
       "      <td>207801.72</td>\n",
       "      <td>33623496</td>\n",
       "      <td>338751472</td>\n",
       "      <td>11891821211</td>\n",
       "      <td>70761.55525</td>\n",
       "      <td>100361</td>\n",
       "      <td>0</td>\n",
       "      <td>0</td>\n",
       "      <td>-4891619</td>\n",
       "    </tr>\n",
       "    <tr>\n",
       "      <th>3</th>\n",
       "      <td>2003</td>\n",
       "      <td>D</td>\n",
       "      <td>166227291</td>\n",
       "      <td>6228226888</td>\n",
       "      <td>166169282</td>\n",
       "      <td>1278089</td>\n",
       "      <td>116429.82</td>\n",
       "      <td>107993.46</td>\n",
       "      <td>16617335</td>\n",
       "      <td>167417985</td>\n",
       "      <td>5400564172</td>\n",
       "      <td>145022.51878</td>\n",
       "      <td>3792</td>\n",
       "      <td>0</td>\n",
       "      <td>0</td>\n",
       "      <td>-142839227</td>\n",
       "    </tr>\n",
       "    <tr>\n",
       "      <th>4</th>\n",
       "      <td>2003</td>\n",
       "      <td>G</td>\n",
       "      <td>118372492</td>\n",
       "      <td>4436332264</td>\n",
       "      <td>118331732</td>\n",
       "      <td>741889</td>\n",
       "      <td>65241.37</td>\n",
       "      <td>172315.26</td>\n",
       "      <td>11833406</td>\n",
       "      <td>119220981</td>\n",
       "      <td>4847277113</td>\n",
       "      <td>191013.29324</td>\n",
       "      <td>106508</td>\n",
       "      <td>0</td>\n",
       "      <td>0</td>\n",
       "      <td>-15185125</td>\n",
       "    </tr>\n",
       "  </tbody>\n",
       "</table>\n",
       "</div>"
      ],
      "text/plain": [
       "   datey code_atc_1  account_yy_ss  reimbt_cat_id  realization_date  quantity  \\\n",
       "0   2003          A      410951540    15401251684         410805326   9458979   \n",
       "1   2003          B      110680105     4147060401         110639339    776768   \n",
       "2   2003          C      336344100    12613148617         336224663   3238620   \n",
       "3   2003          D      166227291     6228226888         166169282   1278089   \n",
       "4   2003          G      118372492     4436332264         118331732    741889   \n",
       "\n",
       "   amount_reimb  amount_not_reimb      Year  trim_pharma  produit_pharma  \\\n",
       "0     738085.30         913693.63  41081822    413892781     13807434263   \n",
       "1     400354.22          83131.96  11064417    111470709      4110940108   \n",
       "2     692515.49         207801.72  33623496    338751472     11891821211   \n",
       "3     116429.82         107993.46  16617335    167417985      5400564172   \n",
       "4      65241.37         172315.26  11833406    119220981      4847277113   \n",
       "\n",
       "            DDD  nombre_prises  orphan_flag  chapter_IV_bis_flag  \\\n",
       "0  365196.67489         320695            0                    2   \n",
       "1  165028.74508          87516            0                    0   \n",
       "2   70761.55525         100361            0                    0   \n",
       "3  145022.51878           3792            0                    0   \n",
       "4  191013.29324         106508            0                    0   \n",
       "\n",
       "   link_same_tablet  \n",
       "0        -157026601  \n",
       "1         -49272471  \n",
       "2          -4891619  \n",
       "3        -142839227  \n",
       "4         -15185125  "
      ]
     },
     "execution_count": 42,
     "metadata": {},
     "output_type": "execute_result"
    }
   ],
   "source": [
    "coda.head()"
   ]
  },
  {
   "cell_type": "markdown",
   "metadata": {},
   "source": [
    "# First visualization \n",
    "\n",
    "### Time series of the amount reimboursed, according to the type of drug."
   ]
  },
  {
   "cell_type": "code",
   "execution_count": 44,
   "metadata": {
    "scrolled": true
   },
   "outputs": [
    {
     "data": {
      "image/png": "[encoded data removed]",
      "text/plain": [
       "<Figure size 423.875x360 with 1 Axes>"
      ]
     },
     "metadata": {},
     "output_type": "display_data"
    }
   ],
   "source": [
    "sns.lmplot(data=coda,\n",
    "           x=\"datey\",\n",
    "           y=\"amount_reimb\",\n",
    "           hue=\"code_atc_1\", fit_reg=False)\n",
    "\n",
    "ax = plt.gca()\n",
    "ax.set_title(\"Amount reimbursed vs. Year\")\n",
    "\n",
    "plt.show()"
   ]
  },
  {
   "cell_type": "markdown",
   "metadata": {},
   "source": [
    "Drug code N represents \"Nervous system\", as it can be seen here: https://www.whocc.no/atc_ddd_index/?code=N&showdescription=yes\n",
    "These drugs are: anesthetics (used for anesthesia), analgesics, antiepileptics and others.\n",
    "\n",
    "\n",
    "## Case: Explain the particular behavior of nervous system drugs \n",
    "\n",
    "Why is the amount reimbursed so high in comparison to the rest of drugs? Analgesics are popular drugs. As it is shown in the code below, the quantity of drugs N is the higher from all the rest, with a total of 391,207,437. \n",
    "\n",
    "However, this does not explain the shape of the distribution during time. \n",
    "\n",
    "It was thought that there could be a link with patents, in particular with the transition moment when patents expire. "
   ]
  },
  {
   "cell_type": "code",
   "execution_count": 63,
   "metadata": {},
   "outputs": [
    {
     "data": {
      "text/plain": [
       "code_atc_1\n",
       "A    115710154\n",
       "B     13806262\n",
       "C     51671761\n",
       "D     16850829\n",
       "G      9190178\n",
       "H      6057944\n",
       "J      5647449\n",
       "L       979656\n",
       "M     12208287\n",
       "N    391207437\n",
       "P       311229\n",
       "R     22934902\n",
       "S       249703\n",
       "V       513717\n",
       "X      5382464\n",
       "Z       122449\n",
       "Name: quantity, dtype: int64"
      ]
     },
     "execution_count": 63,
     "metadata": {},
     "output_type": "execute_result"
    }
   ],
   "source": [
    "coda.groupby('code_atc_1')['quantity'].sum() "
   ]
  },
  {
   "cell_type": "code",
   "execution_count": 45,
   "metadata": {},
   "outputs": [
    {
     "data": {
      "text/html": [
       "<div>\n",
       "<style scoped>\n",
       "    .dataframe tbody tr th:only-of-type {\n",
       "        vertical-align: middle;\n",
       "    }\n",
       "\n",
       "    .dataframe tbody tr th {\n",
       "        vertical-align: top;\n",
       "    }\n",
       "\n",
       "    .dataframe thead th {\n",
       "        text-align: right;\n",
       "    }\n",
       "</style>\n",
       "<table border=\"1\" class=\"dataframe\">\n",
       "  <thead>\n",
       "    <tr style=\"text-align: right;\">\n",
       "      <th></th>\n",
       "      <th>datey</th>\n",
       "      <th>code_atc_1</th>\n",
       "      <th>account_yy_ss</th>\n",
       "      <th>reimbt_cat_id</th>\n",
       "      <th>realization_date</th>\n",
       "      <th>quantity</th>\n",
       "      <th>amount_reimb</th>\n",
       "      <th>amount_not_reimb</th>\n",
       "      <th>Year</th>\n",
       "      <th>trim_pharma</th>\n",
       "      <th>produit_pharma</th>\n",
       "      <th>DDD</th>\n",
       "      <th>nombre_prises</th>\n",
       "      <th>orphan_flag</th>\n",
       "      <th>chapter_IV_bis_flag</th>\n",
       "      <th>link_same_tablet</th>\n",
       "    </tr>\n",
       "  </thead>\n",
       "  <tbody>\n",
       "    <tr>\n",
       "      <th>9</th>\n",
       "      <td>2003</td>\n",
       "      <td>N</td>\n",
       "      <td>1035960451</td>\n",
       "      <td>38820433554</td>\n",
       "      <td>1035577123</td>\n",
       "      <td>29984547</td>\n",
       "      <td>14482676.54</td>\n",
       "      <td>2070784.35</td>\n",
       "      <td>103562444</td>\n",
       "      <td>1043360185</td>\n",
       "      <td>34615655609</td>\n",
       "      <td>630951.90033</td>\n",
       "      <td>828058</td>\n",
       "      <td>0</td>\n",
       "      <td>60</td>\n",
       "      <td>-69083743</td>\n",
       "    </tr>\n",
       "    <tr>\n",
       "      <th>25</th>\n",
       "      <td>2004</td>\n",
       "      <td>N</td>\n",
       "      <td>1071179986</td>\n",
       "      <td>40122109749</td>\n",
       "      <td>1070788015</td>\n",
       "      <td>29765369</td>\n",
       "      <td>17182964.31</td>\n",
       "      <td>1873330.41</td>\n",
       "      <td>107083236</td>\n",
       "      <td>1078296958</td>\n",
       "      <td>36449795832</td>\n",
       "      <td>634117.80033</td>\n",
       "      <td>814413</td>\n",
       "      <td>0</td>\n",
       "      <td>60</td>\n",
       "      <td>-78914105</td>\n",
       "    </tr>\n",
       "    <tr>\n",
       "      <th>41</th>\n",
       "      <td>2005</td>\n",
       "      <td>N</td>\n",
       "      <td>1095645457</td>\n",
       "      <td>41024214268</td>\n",
       "      <td>1095244586</td>\n",
       "      <td>30036300</td>\n",
       "      <td>20233951.79</td>\n",
       "      <td>1963616.74</td>\n",
       "      <td>109529002</td>\n",
       "      <td>1102375277</td>\n",
       "      <td>37833381952</td>\n",
       "      <td>656451.28954</td>\n",
       "      <td>827021</td>\n",
       "      <td>0</td>\n",
       "      <td>69</td>\n",
       "      <td>-75964210</td>\n",
       "    </tr>\n",
       "    <tr>\n",
       "      <th>57</th>\n",
       "      <td>2006</td>\n",
       "      <td>N</td>\n",
       "      <td>1102588242</td>\n",
       "      <td>41274015002</td>\n",
       "      <td>1102189460</td>\n",
       "      <td>29463794</td>\n",
       "      <td>21871997.54</td>\n",
       "      <td>1961980.44</td>\n",
       "      <td>110223111</td>\n",
       "      <td>1108813654</td>\n",
       "      <td>38573896886</td>\n",
       "      <td>675173.44166</td>\n",
       "      <td>843173</td>\n",
       "      <td>0</td>\n",
       "      <td>74</td>\n",
       "      <td>-75483732</td>\n",
       "    </tr>\n",
       "    <tr>\n",
       "      <th>73</th>\n",
       "      <td>2007</td>\n",
       "      <td>N</td>\n",
       "      <td>1093443592</td>\n",
       "      <td>40919851709</td>\n",
       "      <td>1093045177</td>\n",
       "      <td>29048288</td>\n",
       "      <td>22038934.62</td>\n",
       "      <td>1919339.55</td>\n",
       "      <td>109309072</td>\n",
       "      <td>1099065265</td>\n",
       "      <td>39268437142</td>\n",
       "      <td>640543.93691</td>\n",
       "      <td>797790</td>\n",
       "      <td>0</td>\n",
       "      <td>64</td>\n",
       "      <td>-71705414</td>\n",
       "    </tr>\n",
       "  </tbody>\n",
       "</table>\n",
       "</div>"
      ],
      "text/plain": [
       "    datey code_atc_1  account_yy_ss  reimbt_cat_id  realization_date  \\\n",
       "9    2003          N     1035960451    38820433554        1035577123   \n",
       "25   2004          N     1071179986    40122109749        1070788015   \n",
       "41   2005          N     1095645457    41024214268        1095244586   \n",
       "57   2006          N     1102588242    41274015002        1102189460   \n",
       "73   2007          N     1093443592    40919851709        1093045177   \n",
       "\n",
       "    quantity  amount_reimb  amount_not_reimb       Year  trim_pharma  \\\n",
       "9   29984547   14482676.54        2070784.35  103562444   1043360185   \n",
       "25  29765369   17182964.31        1873330.41  107083236   1078296958   \n",
       "41  30036300   20233951.79        1963616.74  109529002   1102375277   \n",
       "57  29463794   21871997.54        1961980.44  110223111   1108813654   \n",
       "73  29048288   22038934.62        1919339.55  109309072   1099065265   \n",
       "\n",
       "    produit_pharma           DDD  nombre_prises  orphan_flag  \\\n",
       "9      34615655609  630951.90033         828058            0   \n",
       "25     36449795832  634117.80033         814413            0   \n",
       "41     37833381952  656451.28954         827021            0   \n",
       "57     38573896886  675173.44166         843173            0   \n",
       "73     39268437142  640543.93691         797790            0   \n",
       "\n",
       "    chapter_IV_bis_flag  link_same_tablet  \n",
       "9                    60         -69083743  \n",
       "25                   60         -78914105  \n",
       "41                   69         -75964210  \n",
       "57                   74         -75483732  \n",
       "73                   64         -71705414  "
      ]
     },
     "execution_count": 45,
     "metadata": {},
     "output_type": "execute_result"
    }
   ],
   "source": [
    "#Ndrug = coda[coda['code_atc_1'].isin(['R','N', 'M'])]\n",
    "\n",
    "Ndrug = coda [coda['code_atc_1']=='N']\n",
    "\n",
    "Ndrug.head()"
   ]
  },
  {
   "cell_type": "markdown",
   "metadata": {},
   "source": [
    "### Visualizing the other drugs"
   ]
  },
  {
   "cell_type": "code",
   "execution_count": 46,
   "metadata": {},
   "outputs": [
    {
     "data": {
      "text/html": [
       "<div>\n",
       "<style scoped>\n",
       "    .dataframe tbody tr th:only-of-type {\n",
       "        vertical-align: middle;\n",
       "    }\n",
       "\n",
       "    .dataframe tbody tr th {\n",
       "        vertical-align: top;\n",
       "    }\n",
       "\n",
       "    .dataframe thead th {\n",
       "        text-align: right;\n",
       "    }\n",
       "</style>\n",
       "<table border=\"1\" class=\"dataframe\">\n",
       "  <thead>\n",
       "    <tr style=\"text-align: right;\">\n",
       "      <th></th>\n",
       "      <th>datey</th>\n",
       "      <th>code_atc_1</th>\n",
       "      <th>account_yy_ss</th>\n",
       "      <th>reimbt_cat_id</th>\n",
       "      <th>realization_date</th>\n",
       "      <th>quantity</th>\n",
       "      <th>amount_reimb</th>\n",
       "      <th>amount_not_reimb</th>\n",
       "      <th>Year</th>\n",
       "      <th>trim_pharma</th>\n",
       "      <th>produit_pharma</th>\n",
       "      <th>DDD</th>\n",
       "      <th>nombre_prises</th>\n",
       "      <th>orphan_flag</th>\n",
       "      <th>chapter_IV_bis_flag</th>\n",
       "      <th>link_same_tablet</th>\n",
       "    </tr>\n",
       "  </thead>\n",
       "  <tbody>\n",
       "    <tr>\n",
       "      <th>0</th>\n",
       "      <td>2003</td>\n",
       "      <td>A</td>\n",
       "      <td>410951540</td>\n",
       "      <td>15401251684</td>\n",
       "      <td>410805326</td>\n",
       "      <td>9458979</td>\n",
       "      <td>738085.30</td>\n",
       "      <td>913693.63</td>\n",
       "      <td>41081822</td>\n",
       "      <td>413892781</td>\n",
       "      <td>13807434263</td>\n",
       "      <td>365196.67489</td>\n",
       "      <td>320695</td>\n",
       "      <td>0</td>\n",
       "      <td>2</td>\n",
       "      <td>-157026601</td>\n",
       "    </tr>\n",
       "    <tr>\n",
       "      <th>1</th>\n",
       "      <td>2003</td>\n",
       "      <td>B</td>\n",
       "      <td>110680105</td>\n",
       "      <td>4147060401</td>\n",
       "      <td>110639339</td>\n",
       "      <td>776768</td>\n",
       "      <td>400354.22</td>\n",
       "      <td>83131.96</td>\n",
       "      <td>11064417</td>\n",
       "      <td>111470709</td>\n",
       "      <td>4110940108</td>\n",
       "      <td>165028.74508</td>\n",
       "      <td>87516</td>\n",
       "      <td>0</td>\n",
       "      <td>0</td>\n",
       "      <td>-49272471</td>\n",
       "    </tr>\n",
       "    <tr>\n",
       "      <th>2</th>\n",
       "      <td>2003</td>\n",
       "      <td>C</td>\n",
       "      <td>336344100</td>\n",
       "      <td>12613148617</td>\n",
       "      <td>336224663</td>\n",
       "      <td>3238620</td>\n",
       "      <td>692515.49</td>\n",
       "      <td>207801.72</td>\n",
       "      <td>33623496</td>\n",
       "      <td>338751472</td>\n",
       "      <td>11891821211</td>\n",
       "      <td>70761.55525</td>\n",
       "      <td>100361</td>\n",
       "      <td>0</td>\n",
       "      <td>0</td>\n",
       "      <td>-4891619</td>\n",
       "    </tr>\n",
       "    <tr>\n",
       "      <th>3</th>\n",
       "      <td>2003</td>\n",
       "      <td>D</td>\n",
       "      <td>166227291</td>\n",
       "      <td>6228226888</td>\n",
       "      <td>166169282</td>\n",
       "      <td>1278089</td>\n",
       "      <td>116429.82</td>\n",
       "      <td>107993.46</td>\n",
       "      <td>16617335</td>\n",
       "      <td>167417985</td>\n",
       "      <td>5400564172</td>\n",
       "      <td>145022.51878</td>\n",
       "      <td>3792</td>\n",
       "      <td>0</td>\n",
       "      <td>0</td>\n",
       "      <td>-142839227</td>\n",
       "    </tr>\n",
       "    <tr>\n",
       "      <th>4</th>\n",
       "      <td>2003</td>\n",
       "      <td>G</td>\n",
       "      <td>118372492</td>\n",
       "      <td>4436332264</td>\n",
       "      <td>118331732</td>\n",
       "      <td>741889</td>\n",
       "      <td>65241.37</td>\n",
       "      <td>172315.26</td>\n",
       "      <td>11833406</td>\n",
       "      <td>119220981</td>\n",
       "      <td>4847277113</td>\n",
       "      <td>191013.29324</td>\n",
       "      <td>106508</td>\n",
       "      <td>0</td>\n",
       "      <td>0</td>\n",
       "      <td>-15185125</td>\n",
       "    </tr>\n",
       "  </tbody>\n",
       "</table>\n",
       "</div>"
      ],
      "text/plain": [
       "   datey code_atc_1  account_yy_ss  reimbt_cat_id  realization_date  quantity  \\\n",
       "0   2003          A      410951540    15401251684         410805326   9458979   \n",
       "1   2003          B      110680105     4147060401         110639339    776768   \n",
       "2   2003          C      336344100    12613148617         336224663   3238620   \n",
       "3   2003          D      166227291     6228226888         166169282   1278089   \n",
       "4   2003          G      118372492     4436332264         118331732    741889   \n",
       "\n",
       "   amount_reimb  amount_not_reimb      Year  trim_pharma  produit_pharma  \\\n",
       "0     738085.30         913693.63  41081822    413892781     13807434263   \n",
       "1     400354.22          83131.96  11064417    111470709      4110940108   \n",
       "2     692515.49         207801.72  33623496    338751472     11891821211   \n",
       "3     116429.82         107993.46  16617335    167417985      5400564172   \n",
       "4      65241.37         172315.26  11833406    119220981      4847277113   \n",
       "\n",
       "            DDD  nombre_prises  orphan_flag  chapter_IV_bis_flag  \\\n",
       "0  365196.67489         320695            0                    2   \n",
       "1  165028.74508          87516            0                    0   \n",
       "2   70761.55525         100361            0                    0   \n",
       "3  145022.51878           3792            0                    0   \n",
       "4  191013.29324         106508            0                    0   \n",
       "\n",
       "   link_same_tablet  \n",
       "0        -157026601  \n",
       "1         -49272471  \n",
       "2          -4891619  \n",
       "3        -142839227  \n",
       "4         -15185125  "
      ]
     },
     "execution_count": 46,
     "metadata": {},
     "output_type": "execute_result"
    }
   ],
   "source": [
    "otherdrug = coda[coda['code_atc_1'] != 'N']\n",
    "\n",
    "otherdrug.head()"
   ]
  },
  {
   "cell_type": "code",
   "execution_count": 48,
   "metadata": {},
   "outputs": [
    {
     "data": {
      "image/png": "[encoded data removed]",
      "text/plain": [
       "<Figure size 423.875x360 with 1 Axes>"
      ]
     },
     "metadata": {},
     "output_type": "display_data"
    }
   ],
   "source": [
    "sns.lmplot(data=otherdrug,\n",
    "           x=\"datey\",\n",
    "           y=\"amount_reimb\",\n",
    "           hue=\"code_atc_1\", fit_reg=False)\n",
    "\n",
    "ax = plt.gca()\n",
    "ax.set_title(\"Amount reimbursed vs. Year\")\n",
    "\n",
    "plt.show()"
   ]
  },
  {
   "cell_type": "markdown",
   "metadata": {},
   "source": [
    "### Comparing the amount reimbursed with the non reimbursed"
   ]
  },
  {
   "cell_type": "markdown",
   "metadata": {},
   "source": [
    "The results for the Ndrug show that the amount reimbursed and not reimbursed falls after year 2012, therefore the general price is reduced. "
   ]
  },
  {
   "cell_type": "code",
   "execution_count": 52,
   "metadata": {},
   "outputs": [
    {
     "data": {
      "text/plain": [
       "Text(0,0.5,'Amount reimboursed')"
      ]
     },
     "execution_count": 52,
     "metadata": {},
     "output_type": "execute_result"
    },
    {
     "data": {
      "image/png": "[encoded data removed]",
      "text/plain": [
       "<Figure size 432x288 with 1 Axes>"
      ]
     },
     "metadata": {},
     "output_type": "display_data"
    }
   ],
   "source": [
    "#It is grouped by the mean , we see a decay \n",
    "\n",
    "ax= Ndrug.plot(x='datey', y=['amount_reimb', 'amount_not_reimb'], kind='line',  \n",
    "             title='Amount reimboursed vs. Year')\n",
    "\n",
    "ax.set_xlabel(\"Year\")\n",
    "ax.set_ylabel(\"Amount reimboursed\")"
   ]
  },
  {
   "cell_type": "code",
   "execution_count": 65,
   "metadata": {},
   "outputs": [
    {
     "data": {
      "text/plain": [
       "Text(0,0.5,'Amount not reimboursed')"
      ]
     },
     "execution_count": 65,
     "metadata": {},
     "output_type": "execute_result"
    },
    {
     "data": {
      "image/png": "[encoded data removed]",
      "text/plain": [
       "<Figure size 432x288 with 1 Axes>"
      ]
     },
     "metadata": {},
     "output_type": "display_data"
    }
   ],
   "source": [
    "#The amount not reimboursed also has a decay behaviour in the last years\n",
    "\n",
    "ax= Ndrug.plot(x='datey', y='amount_not_reimb', kind='line', \n",
    "             title='Amount reimboursed vs. Year')\n",
    "\n",
    "ax.set_xlabel(\"Year\")\n",
    "ax.set_ylabel(\"Amount not reimboursed\")"
   ]
  },
  {
   "cell_type": "markdown",
   "metadata": {},
   "source": [
    "For the other drugs, prices flluctuate across the year. "
   ]
  },
  {
   "cell_type": "code",
   "execution_count": 55,
   "metadata": {},
   "outputs": [
    {
     "data": {
      "text/plain": [
       "Text(0,0.5,'Amount reimboursed')"
      ]
     },
     "execution_count": 55,
     "metadata": {},
     "output_type": "execute_result"
    },
    {
     "data": {
      "image/png": "[encoded data removed]",
      "text/plain": [
       "<Figure size 432x288 with 1 Axes>"
      ]
     },
     "metadata": {},
     "output_type": "display_data"
    }
   ],
   "source": [
    "#It is grouped by the mean , we see a decay \n",
    "\n",
    "ax= otherdrug.plot(x='datey', y=['amount_reimb', 'amount_not_reimb'], \n",
    "             title='Amount reimboursed vs. Year')\n",
    "\n",
    "ax.set_xlabel(\"Year\")\n",
    "ax.set_ylabel(\"Amount reimboursed\")"
   ]
  },
  {
   "cell_type": "code",
   "execution_count": null,
   "metadata": {},
   "outputs": [],
   "source": []
  },
  {
   "cell_type": "markdown",
   "metadata": {},
   "source": [
    "### Other dataframes not used"
   ]
  },
  {
   "cell_type": "code",
   "execution_count": null,
   "metadata": {},
   "outputs": [],
   "source": [
    "brugen= brux[brux['Type']== 'Psychiatrique'] #119.743 vs. 3.373.238\n",
    "\n",
    "#brugen.info()\n",
    "\n",
    "bru = brugen.copy()\n",
    "\n",
    "brugen.drug_code.value_counts()\n",
    "\n",
    "drugmax = bru[bru['drug_code']== 710087]\n",
    "\n",
    "drugmax.info()"
   ]
  },
  {
   "cell_type": "code",
   "execution_count": null,
   "metadata": {},
   "outputs": [],
   "source": [
    "bru= brugen.groupby('Year').sum()\n",
    "\n",
    "bru.info()"
   ]
  },
  {
   "cell_type": "code",
   "execution_count": null,
   "metadata": {},
   "outputs": [],
   "source": [
    "all = bru.merge(farma, on='drug_code', how='left')"
   ]
  },
  {
   "cell_type": "code",
   "execution_count": null,
   "metadata": {},
   "outputs": [],
   "source": [
    "all.head()"
   ]
  },
  {
   "cell_type": "code",
   "execution_count": null,
   "metadata": {},
   "outputs": [],
   "source": [
    "all.describe()"
   ]
  },
  {
   "cell_type": "code",
   "execution_count": null,
   "metadata": {},
   "outputs": [],
   "source": [
    "all.columns\n",
    "\n",
    "all.head()"
   ]
  },
  {
   "cell_type": "code",
   "execution_count": null,
   "metadata": {},
   "outputs": [],
   "source": [
    " #If I don't reset the index, year will be the index \n",
    "\n",
    "alla = all.groupby('Year').sum().reset_index()"
   ]
  },
  {
   "cell_type": "code",
   "execution_count": null,
   "metadata": {},
   "outputs": [],
   "source": [
    "pharma.drug_code.unique()"
   ]
  },
  {
   "cell_type": "code",
   "execution_count": null,
   "metadata": {},
   "outputs": [],
   "source": [
    "secret.describe()"
   ]
  },
  {
   "cell_type": "code",
   "execution_count": null,
   "metadata": {},
   "outputs": [],
   "source": [
    "secret.info()"
   ]
  },
  {
   "cell_type": "code",
   "execution_count": null,
   "metadata": {},
   "outputs": [],
   "source": [
    "secret.isnull().values.any()"
   ]
  }
 ],
 "metadata": {
  "kernelspec": {
   "display_name": "Python 3",
   "language": "python",
   "name": "python3"
  },
  "language_info": {
   "codemirror_mode": {
    "name": "ipython",
    "version": 3
   },
   "file_extension": ".py",
   "mimetype": "text/x-python",
   "name": "python",
   "nbconvert_exporter": "python",
   "pygments_lexer": "ipython3",
   "version": "3.6.5"
  }
 },
 "nbformat": 4,
 "nbformat_minor": 2
}
